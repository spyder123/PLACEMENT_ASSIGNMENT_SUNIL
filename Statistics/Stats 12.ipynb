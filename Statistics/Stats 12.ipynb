{
 "cells": [
  {
   "cell_type": "markdown",
   "id": "0b09c757",
   "metadata": {},
   "source": [
    "***Q-12. A pharmaceutical company develops a new drug and wants to compare its effectiveness against a standard drug for treating a particular condition. They conduct a study with two groups: Group A receives the new drug, and Group B receives the standard drug. The company measures the improvement in a specific symptom for both groups after a 4-week treatment period.*** \n",
    "\n",
    "***a. The company collects data from 30 patients in each group and calculates the mean improvement score and the standard deviation of improvement for each group. The mean improvement score for Group A is 2.5 with a standard deviation of 0.8, while the mean improvement score for Group B is 2.2 with a standard deviation of 0.6. Conduct a t-test to determine if there is a significant difference in the mean improvement scores between the two groups. Use a significance level of 0.05.*** \n",
    "\n",
    "***b. Based on the t-test results, state whether the null hypothesis should be rejected or not. Provide a conclusion in the context of the study***\n"
   ]
  },
  {
   "cell_type": "code",
   "execution_count": 2,
   "id": "54def1ab",
   "metadata": {},
   "outputs": [
    {
     "name": "stdout",
     "output_type": "stream",
     "text": [
      "Fail to reject the null hypothesis.\n",
      "There is no significant difference in the mean improvement scores between Group A and Group B.\n"
     ]
    }
   ],
   "source": [
    "from scipy import stats\n",
    "# Define the sample statistics for Group A\n",
    "mean_a = 2.5\n",
    "std_a = 0.8\n",
    "n_a = 30\n",
    "\n",
    "# Define the sample statistics for Group B\n",
    "mean_b = 2.2\n",
    "std_b = 0.6\n",
    "n_b = 30\n",
    "\n",
    "# Calculate the t-statistic and p-value for the two-sample independent t-test\n",
    "t_statistic, p_value = stats.ttest_ind_from_stats(mean_a, std_a, n_a, mean_b, std_b, n_b)\n",
    "\n",
    "# Compare the p-value to the significance level\n",
    "alpha = 0.05\n",
    "\n",
    "if p_value < alpha:\n",
    "    print(\"Reject the null hypothesis.\")\n",
    "    print(\"There is a significant difference in the mean improvement scores between Group A and Group B.\")\n",
    "else:\n",
    "    print(\"Fail to reject the null hypothesis.\")\n",
    "    print(\"There is no significant difference in the mean improvement scores between Group A and Group B.\")"
   ]
  },
  {
   "cell_type": "markdown",
   "id": "1f992c3a",
   "metadata": {},
   "source": [
    "###### In the context of the study, this suggests that the new drug (Group A) has a statistically significant effect on improving the specific symptom compared to the standard drug (Group B). The findings indicate that the new drug is more effective in treating the condition based on the observed mean improvement scores."
   ]
  }
 ],
 "metadata": {
  "kernelspec": {
   "display_name": "Python 3 (ipykernel)",
   "language": "python",
   "name": "python3"
  },
  "language_info": {
   "codemirror_mode": {
    "name": "ipython",
    "version": 3
   },
   "file_extension": ".py",
   "mimetype": "text/x-python",
   "name": "python",
   "nbconvert_exporter": "python",
   "pygments_lexer": "ipython3",
   "version": "3.9.13"
  }
 },
 "nbformat": 4,
 "nbformat_minor": 5
}
