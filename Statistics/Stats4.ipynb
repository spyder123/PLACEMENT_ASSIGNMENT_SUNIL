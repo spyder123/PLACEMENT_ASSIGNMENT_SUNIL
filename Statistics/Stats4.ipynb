{
 "cells": [
  {
   "cell_type": "markdown",
   "id": "47b208b2",
   "metadata": {},
   "source": [
    "***Q-4. A group of 20 friends decide to play a game in which they each write a number between 1 and 20 on a slip of paper and put it into a hat. They then draw one slip of paper at random. What is the probability that the number on the slip of paper is a perfect square (i.e., 1, 4, 9, or 16)?***"
   ]
  },
  {
   "cell_type": "markdown",
   "id": "e342589d",
   "metadata": {},
   "source": [
    "ANS \n",
    "Probability = Number of favorable outcomes / Total number of possible outcomes\n",
    "Number of favorable outcomes = 4 (i.e., 1, 4, 9, or 16)\n",
    "\n",
    "Total number of possible outcomes = 20\n",
    "\n",
    "Probability = 4 / 20\n",
    "\n",
    "Probability = 1 / 5\n",
    "\n",
    "Therefore, the probability of drawing a perfect square number from the hat is 20%\n",
    " "
   ]
  },
  {
   "cell_type": "code",
   "execution_count": 4,
   "id": "86356143",
   "metadata": {},
   "outputs": [
    {
     "name": "stdout",
     "output_type": "stream",
     "text": [
      "The probability of drawing a perfect square number is: 0.20\n"
     ]
    }
   ],
   "source": [
    "# Number of favorable outcomes (perfect squares)\n",
    "favorable_outcomes = 4\n",
    "\n",
    "# Total number of possible outcomes\n",
    "total_outcomes = 20\n",
    "\n",
    "# Calculate the probability\n",
    "probability = favorable_outcomes / total_outcomes\n",
    "\n",
    "# Display the result\n",
    "print(f\"The probability of drawing a perfect square number is: {probability:.2f}\")"
   ]
  }
 ],
 "metadata": {
  "kernelspec": {
   "display_name": "Python 3 (ipykernel)",
   "language": "python",
   "name": "python3"
  },
  "language_info": {
   "codemirror_mode": {
    "name": "ipython",
    "version": 3
   },
   "file_extension": ".py",
   "mimetype": "text/x-python",
   "name": "python",
   "nbconvert_exporter": "python",
   "pygments_lexer": "ipython3",
   "version": "3.9.13"
  }
 },
 "nbformat": 4,
 "nbformat_minor": 5
}
