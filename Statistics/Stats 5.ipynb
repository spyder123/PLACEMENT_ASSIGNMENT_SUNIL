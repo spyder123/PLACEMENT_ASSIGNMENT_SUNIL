{
 "cells": [
  {
   "cell_type": "markdown",
   "id": "fc62be30",
   "metadata": {},
   "source": [
    "****Q-5. A certain city has two taxi companies: Company A has 80% of the taxis and Company B has 20% of the taxis. Company A's taxis have a 95% success rate for picking up passengers on time, while Company B's taxis have a 90% success rate. If a randomly selected taxi is late, what is the probability that it belongs to Company A****"
   ]
  },
  {
   "cell_type": "code",
   "execution_count": 2,
   "id": "7a165dc2",
   "metadata": {},
   "outputs": [
    {
     "name": "stdout",
     "output_type": "stream",
     "text": [
      "The probability that a randomly selected late taxi belongs to Company A is: 0.67\n"
     ]
    }
   ],
   "source": [
    "# Given probabilities\n",
    "P_A = 0.8\n",
    "P_B_given_A = 0.05\n",
    "P_B_given_not_A = 0.1\n",
    "\n",
    "# Calculate P(not A)\n",
    "P_not_A = 1 - P_A\n",
    "\n",
    "# Calculate P(B)\n",
    "P_B = P_B_given_A * P_A + P_B_given_not_A * P_not_A\n",
    "\n",
    "# Calculate P(A|B) using Bayes' theorem\n",
    "P_A_given_B = (P_B_given_A * P_A) / P_B\n",
    "\n",
    "# Display the result\n",
    "print(f\"The probability that a randomly selected late taxi belongs to Company A is: {P_A_given_B:.2f}\")"
   ]
  }
 ],
 "metadata": {
  "kernelspec": {
   "display_name": "Python 3 (ipykernel)",
   "language": "python",
   "name": "python3"
  },
  "language_info": {
   "codemirror_mode": {
    "name": "ipython",
    "version": 3
   },
   "file_extension": ".py",
   "mimetype": "text/x-python",
   "name": "python",
   "nbconvert_exporter": "python",
   "pygments_lexer": "ipython3",
   "version": "3.9.13"
  }
 },
 "nbformat": 4,
 "nbformat_minor": 5
}
