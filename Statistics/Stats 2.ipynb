{
 "cells": [
  {
   "cell_type": "markdown",
   "id": "a81c3636",
   "metadata": {},
   "source": [
    "### Q-2. Consider a dataset containing the heights (in centimeters) of 1000 individuals. The mean height is 170 cm with a standard deviation of 10 cm. The dataset is approximately normally distributed, and its skewness is approximately zero. Based on this information, answer the following questions: \n",
    "#### a. What percentage of individuals in the dataset have heights between 160 cm and 180 cm? \n",
    "#### b. If we randomly select 100 individuals from the dataset, what is the probability that their average height is greater than 175 cm? \n",
    "#### c. Assuming the dataset follows a normal distribution, what is the z-score corresponding to a height of 185 cm? \n",
    "#### d. We know that 5% of the dataset has heights below a certain value. What is the approximate height corresponding to this threshold? \n",
    "#### e. Calculate the coefficient of variation (CV) for the dataset. \n",
    "#### f. Calculate the skewness of the dataset and interpret the result.\n"
   ]
  },
  {
   "cell_type": "markdown",
   "id": "a63872a0",
   "metadata": {},
   "source": [
    "***Ans a. To determine the percentage of individuals in the dataset with heights between 160 cm and 180 cm, we can use the properties of the normal distribution.***\n",
    "\n",
    "***Since the mean height is 170 cm and the standard deviation is 10 cm, we can calculate the z-scores for both heights using the formula: z = (x - μ) / σ, where x is the height, μ is the mean, and σ is the standard deviation.***\n",
    "\n",
    "For 160 cm: z1 = (160 - 170) / 10 = -1\n",
    "\n",
    "For 180 cm: z2 = (180 - 170) / 10 = 1\n",
    "\n",
    "***Using a standard normal distribution table or a statistical software, we can find the area under the curve between z = -1 and z = 1, which represents the percentage of individuals with heights between 160 cm and 180 cm***\n",
    "\n",
    "***The area between z = -1 and z = 1 is approximately 0.6826 or 68.26%. Therefore, approximately 68.26% of individuals in the dataset have heights between 160 cm and 180 cm.***"
   ]
  },
  {
   "cell_type": "code",
   "execution_count": 8,
   "id": "2f45cb32",
   "metadata": {},
   "outputs": [
    {
     "name": "stdout",
     "output_type": "stream",
     "text": [
      "Percentage of individuals with heights between 160 cm and 180 cm: 68.27%\n"
     ]
    }
   ],
   "source": [
    "import scipy.stats as stats\n",
    "\n",
    "# Given values\n",
    "mean_height = 170\n",
    "std_dev = 10\n",
    "\n",
    "# a. Percentage of individuals with heights between 160 cm and 180 cm\n",
    "z1 = (160 - mean_height) / std_dev\n",
    "z2 = (180 - mean_height) / std_dev\n",
    "percentage_between = stats.norm.cdf(z2) - stats.norm.cdf(z1)\n",
    "percentage_between *= 100\n",
    "\n",
    "print(f\"Percentage of individuals with heights between 160 cm and 180 cm: {percentage_between:.2f}%\")"
   ]
  },
  {
   "cell_type": "markdown",
   "id": "4eb66dad",
   "metadata": {},
   "source": [
    "***Ans b. To calculate the probability that the average height of a randomly selected group of 100 individuals is greater than 175 cm, we can use the Central Limit Theorem. The Central Limit Theorem states that the distribution of sample means approaches a normal distribution with a mean equal to the population mean and a standard deviation equal to the population standard deviation divided by the square root of the sample size.***\n",
    "\n",
    "***The standard deviation of the sample means is calculated as σ / sqrt(n), where σ is the population standard deviation and n is the sample size.***\n",
    "\n",
    "***In this case, the population standard deviation is 10 cm, and the sample size is 100.***\n",
    "\n",
    "***Standard deviation of the sample means = 10 / sqrt(100) = 10 / 10 = 1***\n",
    "\n",
    "***Now, we can calculate the z-score for a height of 175 cm using the formula: z = (x - μ) / σ, where x is the height, μ is the mean, and σ is the standard deviation.***\n",
    "\n",
    "z = (175 - 170) / 1 = 5\n",
    "\n",
    "***Using a standard normal distribution table or a statistical software, we can find the area to the right of z = 5, which represents the probability that the average height is greater than 175 cm.***\n",
    "\n",
    "***The area to the right of z = 5 is very close to 0. Therefore, the probability that the average height of a randomly selected group of 100 individuals is greater than 175 cm is nearly 0.***"
   ]
  },
  {
   "cell_type": "code",
   "execution_count": 10,
   "id": "6716ff99",
   "metadata": {},
   "outputs": [
    {
     "name": "stdout",
     "output_type": "stream",
     "text": [
      "Probability that the average height of 100 individuals is greater than 175 cm: 0.0000\n"
     ]
    }
   ],
   "source": [
    "# b. Probability that the average height of 100 individuals is greater than 175 cm\n",
    "sample_size = 100\n",
    "sample_mean_std_dev = std_dev / (sample_size ** 0.5)\n",
    "z_score = (175 - mean_height) / sample_mean_std_dev\n",
    "probability_greater = 1 - stats.norm.cdf(z_score)\n",
    "\n",
    "print(f\"Probability that the average height of 100 individuals is greater than 175 cm: {probability_greater:.4f}\")\n"
   ]
  },
  {
   "cell_type": "markdown",
   "id": "8dc74d42",
   "metadata": {},
   "source": [
    "***Ans c. To calculate the z-score corresponding to a height of 185 cm, we can use the formula: z = (x - μ) / σ, where x is the height, μ is the mean, and σ is the standard deviation.***\n",
    "\n",
    "z = (185 - 170) / 10 = 15 / 10 = 1.5\n",
    "\n",
    "***Therefore, the z-score corresponding to a height of 185 cm is 1.5.***"
   ]
  },
  {
   "cell_type": "code",
   "execution_count": 11,
   "id": "36d8b4df",
   "metadata": {
    "scrolled": true
   },
   "outputs": [
    {
     "name": "stdout",
     "output_type": "stream",
     "text": [
      "Z-score corresponding to a height of 185 cm: 1.50\n"
     ]
    }
   ],
   "source": [
    "# c. Z-score corresponding to a height of 185 cm\n",
    "height = 185\n",
    "z_score = (height - mean_height) / std_dev\n",
    "\n",
    "print(f\"Z-score corresponding to a height of 185 cm: {z_score:.2f}\")"
   ]
  },
  {
   "cell_type": "markdown",
   "id": "19c37616",
   "metadata": {},
   "source": [
    "***Ans d. To find the approximate height corresponding to the threshold where 5% of the dataset has heights below that value, we need to find the z-score that corresponds to the 5th percentile.***\n",
    "\n",
    "***Using a standard normal distribution table or a statistical software, we can find the z-score that corresponds to the 5th percentile. In this case, the z-score is approximately -1.645.***\n",
    "\n",
    "***Now, we can calculate the height corresponding to this z-score using the formula: x = μ + z * σ, where x is the height, μ is the mean, z is the z-score, and σ is the standard deviation.***\n",
    "\n",
    "x = 170 + (-1.645) * 10 = 170 -16.45 = 153.55"
   ]
  },
  {
   "cell_type": "code",
   "execution_count": 13,
   "id": "71c1d997",
   "metadata": {},
   "outputs": [
    {
     "name": "stdout",
     "output_type": "stream",
     "text": [
      "Approximate height corresponding to the 5th percentile: 153.55\n"
     ]
    }
   ],
   "source": [
    "# d. Approximate height corresponding to the threshold where 5% of the dataset has heights below that value\n",
    "percentile = 0.05\n",
    "threshold = stats.norm.ppf(percentile, mean_height, std_dev)\n",
    "\n",
    "print(f\"Approximate height corresponding to the 5th percentile: {threshold:.2f}\")"
   ]
  },
  {
   "cell_type": "markdown",
   "id": "75589fc8",
   "metadata": {},
   "source": [
    "***Ans e. Calculate the coefficient of variation (CV) for the dataset.***\n",
    "Answer\n",
    "CV = (σ / μ) * 100%\n",
    "\n",
    "(σ)=10 cm Mean (μ) = 170 cm coefficient of variation (CV) = ?\n",
    "\n",
    "CV = (10 / 170) * 100% = 5.88%"
   ]
  },
  {
   "cell_type": "code",
   "execution_count": 14,
   "id": "6a4fdd4c",
   "metadata": {},
   "outputs": [
    {
     "name": "stdout",
     "output_type": "stream",
     "text": [
      "Coefficient of variation (CV) for the dataset: 5.88%\n"
     ]
    }
   ],
   "source": [
    "# e. Coefficient of variation (CV) for the dataset\n",
    "cv = (std_dev / mean_height) * 100\n",
    "\n",
    "print(f\"Coefficient of variation (CV) for the dataset: {cv:.2f}%\")"
   ]
  },
  {
   "cell_type": "markdown",
   "id": "77686758",
   "metadata": {},
   "source": [
    "***Ans f. Calculate the skewness of the dataset and interpret the result.***"
   ]
  },
  {
   "cell_type": "code",
   "execution_count": 15,
   "id": "4f704fe7",
   "metadata": {},
   "outputs": [
    {
     "name": "stdout",
     "output_type": "stream",
     "text": [
      "Skewness of the dataset: 0\n"
     ]
    }
   ],
   "source": [
    "# f. Skewness of the dataset\n",
    "skewness = 0  # Given that the skewness is approximately zero for the dataset\n",
    "\n",
    "print(f\"Skewness of the dataset: {skewness}\")"
   ]
  }
 ],
 "metadata": {
  "kernelspec": {
   "display_name": "Python 3 (ipykernel)",
   "language": "python",
   "name": "python3"
  },
  "language_info": {
   "codemirror_mode": {
    "name": "ipython",
    "version": 3
   },
   "file_extension": ".py",
   "mimetype": "text/x-python",
   "name": "python",
   "nbconvert_exporter": "python",
   "pygments_lexer": "ipython3",
   "version": "3.9.13"
  }
 },
 "nbformat": 4,
 "nbformat_minor": 5
}
