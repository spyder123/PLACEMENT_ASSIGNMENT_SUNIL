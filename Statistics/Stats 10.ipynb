{
 "cells": [
  {
   "cell_type": "markdown",
   "id": "5f1438bc",
   "metadata": {},
   "source": [
    "***Q-10. A factory produces light bulbs, and the probability of a bulb being defective is 0.05. The factory produces a large batch of 500 light bulbs.***\n",
    "\n",
    "***a. What is the probability that exactly 20 bulbs are defective?***\n",
    "\n",
    "***b. What is the probability that at least 10 bulbs are defective?*** \n",
    "\n",
    "***c. What is the probability that at max 15 bulbs are defective?***\n",
    "\n",
    "***d. On average, how many defective bulbs would you expect in a batch of 500***"
   ]
  },
  {
   "cell_type": "markdown",
   "id": "02d0d7a4",
   "metadata": {},
   "source": [
    "***a. What is the probability that exactly 20 bulbs are defective?***"
   ]
  },
  {
   "cell_type": "code",
   "execution_count": 2,
   "id": "f99e0f4e",
   "metadata": {},
   "outputs": [
    {
     "name": "stdout",
     "output_type": "stream",
     "text": [
      "The probability that exactly 20 bulbs are defective: 0.0516\n"
     ]
    }
   ],
   "source": [
    "import scipy.stats as stats\n",
    "\n",
    "total_bulbs = 500\n",
    "probability_defective = 0.05\n",
    "\n",
    "# a. Probability of exactly 20 bulbs being defective\n",
    "k = 20\n",
    "p_20_defective = stats.binom.pmf(k, total_bulbs, probability_defective)\n",
    "print(f\"The probability that exactly 20 bulbs are defective: {p_20_defective:.4f}\")"
   ]
  },
  {
   "cell_type": "markdown",
   "id": "1aa1e2ba",
   "metadata": {},
   "source": [
    "***b. What is the probability that at least 10 bulbs are defective?*** \n"
   ]
  },
  {
   "cell_type": "code",
   "execution_count": 3,
   "id": "e6d6c667",
   "metadata": {},
   "outputs": [
    {
     "name": "stdout",
     "output_type": "stream",
     "text": [
      "The probability that at least 10 bulbs are defective: 0.9998\n"
     ]
    }
   ],
   "source": [
    "# b. Probability of at least 10 bulbs being defective\n",
    "k_min = 10\n",
    "p_at_least_10_defective = 1 - stats.binom.cdf(k_min - 1, total_bulbs, probability_defective)\n",
    "print(f\"The probability that at least 10 bulbs are defective: {p_at_least_10_defective:.4f}\")"
   ]
  },
  {
   "cell_type": "markdown",
   "id": "db8646e6",
   "metadata": {},
   "source": [
    "***c. What is the probability that at max 15 bulbs are defective?***\n"
   ]
  },
  {
   "cell_type": "code",
   "execution_count": 7,
   "id": "b92b154e",
   "metadata": {},
   "outputs": [
    {
     "name": "stdout",
     "output_type": "stream",
     "text": [
      "The probability that at most 15 bulbs are defective: 0.0199\n"
     ]
    }
   ],
   "source": [
    "# c. Probability of at most 15 bulbs being defective\n",
    "k_max = 15\n",
    "p_at_most_15_defective = stats.binom.cdf(k_max, total_bulbs, probability_defective)\n",
    "print(f\"The probability that at most 15 bulbs are defective: {p_at_most_15_defective:.4f}\")"
   ]
  },
  {
   "cell_type": "markdown",
   "id": "6f5ecd7b",
   "metadata": {},
   "source": [
    "***d. On average, how many defective bulbs would you expect in a batch of 500***"
   ]
  },
  {
   "cell_type": "code",
   "execution_count": 9,
   "id": "77e34cfd",
   "metadata": {},
   "outputs": [
    {
     "name": "stdout",
     "output_type": "stream",
     "text": [
      "On average, you would expect 25.00 defective bulbs in a batch of 500.\n"
     ]
    }
   ],
   "source": [
    "# d. Expected number of defective bulbs in a batch of 500\n",
    "expected_defective_bulbs = total_bulbs * probability_defective\n",
    "print(f\"On average, you would expect {expected_defective_bulbs:.2f} defective bulbs in a batch of 500.\")"
   ]
  }
 ],
 "metadata": {
  "kernelspec": {
   "display_name": "Python 3 (ipykernel)",
   "language": "python",
   "name": "python3"
  },
  "language_info": {
   "codemirror_mode": {
    "name": "ipython",
    "version": 3
   },
   "file_extension": ".py",
   "mimetype": "text/x-python",
   "name": "python",
   "nbconvert_exporter": "python",
   "pygments_lexer": "ipython3",
   "version": "3.9.13"
  }
 },
 "nbformat": 4,
 "nbformat_minor": 5
}
