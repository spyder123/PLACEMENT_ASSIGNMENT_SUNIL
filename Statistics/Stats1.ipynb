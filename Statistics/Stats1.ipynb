{
 "cells": [
  {
   "cell_type": "markdown",
   "id": "df4ff376",
   "metadata": {},
   "source": [
    "***Q-1. A university wants to understand the relationship between the SAT scores of its\n",
    "applicants and their college GPA. They collect data on 500 students, including their SAT\n",
    "scores (out of 1600) and their college GPA (on a 4.0 scale). They find that the correlation\n",
    "coefficient between SAT scores and college GPA is 0.7. What does this correlation\n",
    "coefficient indicate about the relationship between SAT scores and college GPA?***"
   ]
  },
  {
   "cell_type": "markdown",
   "id": "600974ca",
   "metadata": {},
   "source": [
    "ANS- The correlation coefficient of 0.7 indicates a strong positive relationship between SAT scores and college GPA.\n",
    "\n",
    "A correlation coefficient ranges from -1 to 1, where a value of 1 represents a perfect positive correlation, 0 represents no correlation, and -1 represents a perfect negative correlation.\n",
    "\n",
    "In this case, a correlation coefficient of 0.7 suggests a strong positive correlation, indicating that as SAT scores increase, college GPA tends to increase as well.\n"
   ]
  },
  {
   "cell_type": "markdown",
   "id": "2cdfd4fc",
   "metadata": {},
   "source": [
    "Relationship between SAT scores and college GPA based on the given correlation coefficient of 0.7:\n",
    "\n",
    "1.There is a strong positive correlation between SAT scores and college GPA.\n",
    "\n",
    "2.As SAT scores increase, college GPA tends to increase as well.\n",
    "\n",
    "3.Students with higher SAT scores are more likely to have higher college GPAs.\n",
    "\n",
    "4.Students with lower SAT scores are more likely to have lower college GPAs.\n",
    "\n",
    "5.The correlation coefficient of 0.7 indicates a significant and consistent relationship between SAT scores and college GPA."
   ]
  }
 ],
 "metadata": {
  "kernelspec": {
   "display_name": "Python 3 (ipykernel)",
   "language": "python",
   "name": "python3"
  },
  "language_info": {
   "codemirror_mode": {
    "name": "ipython",
    "version": 3
   },
   "file_extension": ".py",
   "mimetype": "text/x-python",
   "name": "python",
   "nbconvert_exporter": "python",
   "pygments_lexer": "ipython3",
   "version": "3.9.13"
  }
 },
 "nbformat": 4,
 "nbformat_minor": 5
}
