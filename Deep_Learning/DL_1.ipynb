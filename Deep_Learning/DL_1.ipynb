{
 "cells": [
  {
   "cell_type": "markdown",
   "id": "9cda1f1f",
   "metadata": {},
   "source": [
    "***Question 1 -\n",
    "Implement 3 different CNN architectures with a comparison table for the MNSIT\n",
    "dataset using the Tensorflow library.***\n",
    "\n",
    "Note -\n",
    "1. The model parameters for each architecture should not be more than 8000\n",
    "\n",
    "parameters\n",
    "\n",
    "2. Code comments should be given for proper code understanding.\n",
    "\n",
    "3. The minimum accuracy for each accuracy should be at least 96%\n"
   ]
  },
  {
   "cell_type": "code",
   "execution_count": 1,
   "id": "095fc24e",
   "metadata": {},
   "outputs": [],
   "source": [
    "import tensorflow as tf\n",
    "from tensorflow import keras\n",
    "from tensorflow.keras import layers\n",
    "     \n"
   ]
  },
  {
   "cell_type": "code",
   "execution_count": 2,
   "id": "19d9d3eb",
   "metadata": {},
   "outputs": [],
   "source": [
    "# Load MNIST dataset\n",
    "(x_train, y_train), (x_test, y_test) = keras.datasets.mnist.load_data()\n",
    "\n",
    "# Preprocess data\n",
    "x_train = x_train.astype(\"float32\") / 255\n",
    "x_test = x_test.astype(\"float32\") / 255\n"
   ]
  },
  {
   "cell_type": "code",
   "execution_count": 3,
   "id": "1568ecb9",
   "metadata": {},
   "outputs": [
    {
     "name": "stdout",
     "output_type": "stream",
     "text": [
      "1875/1875 [==============================] - 63s 32ms/step - loss: 0.2471 - accuracy: 0.9255\n",
      "313/313 [==============================] - 8s 17ms/step - loss: 0.0716 - accuracy: 0.9772\n",
      "Model     Accuracy  \n",
      "Model - 1 0.9772    \n",
      "Model     Parameters\n",
      "Model 1   5994      \n"
     ]
    }
   ],
   "source": [
    "# Define model architectures\n",
    "\n",
    "#first architecture\n",
    "def create_model_1():\n",
    "    model = keras.Sequential([\n",
    "        layers.Input(shape=(28, 28)),\n",
    "        layers.Reshape(target_shape=(28, 28, 1)),\n",
    "        layers.Conv2D(filters=8, kernel_size=5, activation='relu'),\n",
    "        layers.MaxPooling2D(pool_size=(2, 2)),\n",
    "        layers.Conv2D(filters=16, kernel_size=5, activation='relu'),\n",
    "        layers.MaxPooling2D(pool_size=(2, 2)),\n",
    "        layers.Flatten(),\n",
    "        layers.Dense(units=10, activation='softmax')\n",
    "    ])\n",
    "    return model\n",
    "\n",
    "\n",
    "# Create models\n",
    "model_1 = create_model_1()\n",
    "\n",
    "# Compile models\n",
    "model_1.compile(optimizer='adam', loss='sparse_categorical_crossentropy', metrics=['accuracy'])\n",
    "\n",
    "# Train models\n",
    "model_1.fit(x_train, y_train)\n",
    "\n",
    "# Evaluate models\n",
    "_, acc_1 = model_1.evaluate(x_test, y_test)\n",
    "\n",
    "\n",
    "# Comparison table\n",
    "print(f\"{'Model':<10}{'Accuracy':<10}\")\n",
    "print(f\"{'Model - 1':<10}{acc_1:<10.4f}\")\n",
    "\n",
    "# Check the number of model parameters for each architecture\n",
    "params_1 = model_1.count_params()\n",
    "\n",
    "# Print the number of model parameters for each architecture\n",
    "print(f\"{'Model':<10}{'Parameters':<10}\")\n",
    "print(f\"{'Model 1':<10}{params_1:<10}\")"
   ]
  },
  {
   "cell_type": "code",
   "execution_count": 4,
   "id": "65b6d9da",
   "metadata": {},
   "outputs": [
    {
     "name": "stdout",
     "output_type": "stream",
     "text": [
      "1875/1875 [==============================] - 40s 20ms/step - loss: 0.2796 - accuracy: 0.9179\n",
      "313/313 [==============================] - 3s 9ms/step - loss: 0.1021 - accuracy: 0.9714\n",
      "Model     Accuracy  \n",
      "Model - 2 0.9714    \n",
      "Model     Parameters\n",
      "Model 2   5258      \n"
     ]
    }
   ],
   "source": [
    "\n",
    "# Second architecture\n",
    "def create_model_2():\n",
    "    model = keras.Sequential([\n",
    "        layers.Input(shape=(28, 28)),\n",
    "        layers.Reshape(target_shape=(28, 28, 1)),\n",
    "        layers.Conv2D(filters=8, kernel_size=3, activation='relu'),\n",
    "        layers.MaxPooling2D(pool_size=(2, 2)),\n",
    "        layers.Conv2D(filters=16, kernel_size=3, activation='relu'),\n",
    "        layers.MaxPooling2D(pool_size=(2, 2)),\n",
    "        layers.Flatten(),\n",
    "        layers.Dense(units=10, activation='softmax')\n",
    "    ])\n",
    "    return model\n",
    "\n",
    "\n",
    "# Create models\n",
    "model_2 = create_model_2()\n",
    "\n",
    "# Compile models\n",
    "model_2.compile(optimizer='adam', loss='sparse_categorical_crossentropy', metrics=['accuracy'])\n",
    "\n",
    "# Train models\n",
    "model_2.fit(x_train, y_train)\n",
    "\n",
    "# Evaluate models\n",
    "_, acc_2 = model_2.evaluate(x_test, y_test)\n",
    "\n",
    "# Comparison table\n",
    "print(f\"{'Model':<10}{'Accuracy':<10}\")\n",
    "print(f\"{'Model - 2':<10}{acc_2:<10.4f}\")\n",
    "\n",
    "# Check the number of model parameters for each architecture\n",
    "params_2 = model_2.count_params()\n",
    "\n",
    "# Print the number of model parameters for each architecture\n",
    "print(f\"{'Model':<10}{'Parameters':<10}\")\n",
    "print(f\"{'Model 2':<10}{params_2:<10}\")"
   ]
  },
  {
   "cell_type": "code",
   "execution_count": 5,
   "id": "1da31785",
   "metadata": {},
   "outputs": [
    {
     "name": "stdout",
     "output_type": "stream",
     "text": [
      "1875/1875 [==============================] - 42s 21ms/step - loss: 0.2631 - accuracy: 0.9243\n",
      "313/313 [==============================] - 4s 10ms/step - loss: 0.1021 - accuracy: 0.9696\n",
      "Model     Accuracy  \n",
      "Model - 3 0.9696    \n",
      "Model     Parameters\n",
      "Model 3   5258      \n"
     ]
    }
   ],
   "source": [
    "# Third architecture\n",
    "def create_model_3():\n",
    "    model = keras.Sequential([\n",
    "        layers.Input(shape=(28, 28)),\n",
    "        layers.Reshape(target_shape=(28, 28, 1)),\n",
    "        layers.Conv2D(filters=8, kernel_size=3, activation='relu'),\n",
    "        layers.MaxPooling2D(pool_size=(2, 2)),\n",
    "        layers.Conv2D(filters=16, kernel_size=3, activation='relu'),\n",
    "        layers.MaxPooling2D(pool_size=(2, 2)),\n",
    "        layers.Flatten(),\n",
    "        layers.Dense(units=10, activation='softmax')\n",
    "    ])\n",
    "    return model\n",
    "\n",
    "\n",
    "# Create models\n",
    "model_3 = create_model_3()\n",
    "\n",
    "# Compile models\n",
    "model_3.compile(optimizer='adam', loss='sparse_categorical_crossentropy', metrics=['accuracy'])\n",
    "\n",
    "# Train models\n",
    "model_3.fit(x_train, y_train)\n",
    "\n",
    "# Evaluate models\n",
    "_, acc_3 = model_3.evaluate(x_test, y_test)\n",
    "\n",
    "# Comparison table\n",
    "print(f\"{'Model':<10}{'Accuracy':<10}\")\n",
    "print(f\"{'Model - 3':<10}{acc_3:<10.4f}\")\n",
    "\n",
    "# Check the number of model parameters for each architecture\n",
    "params_3 = model_3.count_params()\n",
    "\n",
    "# Print the number of model parameters for each architecture\n",
    "print(f\"{'Model':<10}{'Parameters':<10}\")\n",
    "print(f\"{'Model 3':<10}{params_3:<10}\")"
   ]
  },
  {
   "cell_type": "markdown",
   "id": "6d5a2b4e",
   "metadata": {},
   "source": [
    "### So, we can see that all three models have achieved an accuracy of at least 96% on the test data and model parameters do not exceed more than 8000.\n",
    "\n",
    "#### Model 1 has an accuracy of 97.72%,\n",
    "\n",
    "#### Model 2 has an accuracy of 97.14% and\n",
    "\n",
    "#### Model 3 has an accuracy of 96.96%."
   ]
  }
 ],
 "metadata": {
  "kernelspec": {
   "display_name": "Python 3 (ipykernel)",
   "language": "python",
   "name": "python3"
  },
  "language_info": {
   "codemirror_mode": {
    "name": "ipython",
    "version": 3
   },
   "file_extension": ".py",
   "mimetype": "text/x-python",
   "name": "python",
   "nbconvert_exporter": "python",
   "pygments_lexer": "ipython3",
   "version": "3.9.13"
  }
 },
 "nbformat": 4,
 "nbformat_minor": 5
}
