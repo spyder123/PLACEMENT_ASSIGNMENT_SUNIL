{
 "cells": [
  {
   "cell_type": "markdown",
   "id": "7b914bf2",
   "metadata": {},
   "source": [
    "***Question 2: -\n",
    "Consider a string to be valid if all characters of the string appear the same number of times. It is also valid if\n",
    "he can remove just one character at the index in the string, and the remaining characters will occur the same\n",
    "number of times. Given a string, determine if it is valid. If so, return YES , otherwise return NO .***"
   ]
  },
  {
   "cell_type": "markdown",
   "id": "495b4d8b",
   "metadata": {},
   "source": [
    "Note - You have to write at least 2 additional test cases in which your program will run successfully and provide\n",
    "an explanation for the same.\n",
    "\n",
    "Example input 1 - s = “abc”. This is a valid string because frequencies are { “a”: 1, “b”: 1, “c”: 1 }\n",
    "Example output 1- YES\n",
    "\n",
    "Example input 2 - s “abcc”. This string is not valid as we can remove only 1 occurrence of “c”. That leaves\n",
    "character frequencies of { “a”: 1, “b”: 1 , “c”: 2 }\n",
    "\n",
    "Example output 2 - NO"
   ]
  },
  {
   "cell_type": "code",
   "execution_count": 4,
   "id": "d85bb705",
   "metadata": {},
   "outputs": [],
   "source": [
    "from collections import Counter\n",
    "def valid_string(s):\n",
    "    count_frequency = Counter(s)\n",
    "    \n",
    "    #Find The frequency\n",
    "    frequency = set(count_frequency.values())\n",
    "    \n",
    "    # If all frequencies are the same, the string is valid\n",
    "    if len(frequency) == 1:\n",
    "        return \"Yes\"\n",
    "    \n",
    "    else:\n",
    "        return \"No\""
   ]
  },
  {
   "cell_type": "code",
   "execution_count": 9,
   "id": "777df1a8",
   "metadata": {},
   "outputs": [
    {
     "name": "stdout",
     "output_type": "stream",
     "text": [
      "Yes\n"
     ]
    }
   ],
   "source": [
    "## Testcase1\n",
    "print(valid_string(\"aabbcc\"))\n"
   ]
  },
  {
   "cell_type": "code",
   "execution_count": 10,
   "id": "a79f04fc",
   "metadata": {},
   "outputs": [
    {
     "name": "stdout",
     "output_type": "stream",
     "text": [
      "No\n"
     ]
    }
   ],
   "source": [
    "## Testcase2\n",
    "print(valid_string(\"aabbcdd\"))"
   ]
  }
 ],
 "metadata": {
  "kernelspec": {
   "display_name": "Python 3 (ipykernel)",
   "language": "python",
   "name": "python3"
  },
  "language_info": {
   "codemirror_mode": {
    "name": "ipython",
    "version": 3
   },
   "file_extension": ".py",
   "mimetype": "text/x-python",
   "name": "python",
   "nbconvert_exporter": "python",
   "pygments_lexer": "ipython3",
   "version": "3.9.13"
  }
 },
 "nbformat": 4,
 "nbformat_minor": 5
}
