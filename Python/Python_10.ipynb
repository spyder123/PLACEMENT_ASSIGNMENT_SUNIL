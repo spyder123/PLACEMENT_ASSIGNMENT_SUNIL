{
 "cells": [
  {
   "cell_type": "markdown",
   "id": "c06d2ba8",
   "metadata": {},
   "source": [
    "***Question 10 -\n",
    "Write a program to count the number of verbs, nouns, pronouns, and adjectives in a given particular phrase or\n",
    "paragraph, and return their respective count as a dictionary***\n"
   ]
  },
  {
   "cell_type": "markdown",
   "id": "a58f561a",
   "metadata": {},
   "source": [
    "Note -\n",
    "1. Write code comments wherever required for code\n",
    "2. You have to write at least 2 additional test cases in which your program will run successfully and provide\n",
    "an explanation for the same."
   ]
  },
  {
   "cell_type": "code",
   "execution_count": 8,
   "id": "16a4c349",
   "metadata": {},
   "outputs": [],
   "source": [
    "import re\n",
    "\n",
    "def count_pos_tags(text):\n",
    "   \n",
    "    noun_pattern = re.compile(r'\\b[A-Za-z]+[s]?\\b', re.IGNORECASE)\n",
    "    pronoun_pattern = re.compile(r'\\b(I|me|my|mine|you|your|yours|he|him|his|she|her|hers|it|its|we|us|our|ours|they|them|their|theirs)\\b', re.IGNORECASE)\n",
    "    verb_pattern = re.compile(r'\\b[A-Za-z]+(?:s|ed|ing)?\\b', re.IGNORECASE)\n",
    "    adjective_pattern = re.compile(r'\\b[A-Za-z]+\\b', re.IGNORECASE)\n",
    "\n",
    "    # count variables\n",
    "    noun_count = 0\n",
    "    pronoun_count = 0\n",
    "    verb_count = 0\n",
    "    adjective_count = 0\n",
    "\n",
    "    # Find matches \n",
    "    noun_matches = re.findall(noun_pattern, text)\n",
    "    pronoun_matches = re.findall(pronoun_pattern, text)\n",
    "    verb_matches = re.findall(verb_pattern, text)\n",
    "    adjective_matches = re.findall(adjective_pattern, text)\n",
    "\n",
    "    # Count the matches\n",
    "    noun_count = len(noun_matches)\n",
    "    pronoun_count = len(pronoun_matches)\n",
    "    verb_count = len(verb_matches)\n",
    "    adjective_count = len(adjective_matches)\n",
    "\n",
    "    # return the dictionary\n",
    "    pos_counts = {\n",
    "        'nouns': noun_count,\n",
    "        'pronouns': pronoun_count,\n",
    "        'verbs': verb_count,\n",
    "        'adjectives': adjective_count\n",
    "    }\n",
    "    return pos_counts\n",
    "text = \"Linear regression\""
   ]
  },
  {
   "cell_type": "code",
   "execution_count": 9,
   "id": "2af546ea",
   "metadata": {},
   "outputs": [
    {
     "name": "stdout",
     "output_type": "stream",
     "text": [
      "{'nouns': 42, 'pronouns': 1, 'verbs': 42, 'adjectives': 42}\n"
     ]
    }
   ],
   "source": [
    "text = \"Linear regression is one of the easiest and most popular Machine Learning algorithms. It is a statistical method that is used for predictive analysis. Linear regression makes predictions for continuous/real or numeric variables such as sales, salary, age, product price, etc\"\n",
    "result = count_pos_tags(text)\n",
    "print(result)"
   ]
  },
  {
   "cell_type": "code",
   "execution_count": 10,
   "id": "255f777d",
   "metadata": {},
   "outputs": [
    {
     "name": "stdout",
     "output_type": "stream",
     "text": [
      "{'nouns': 37, 'pronouns': 1, 'verbs': 37, 'adjectives': 37}\n"
     ]
    }
   ],
   "source": [
    "text = \"When working with linear regression, our main goal is to find the best fit line that means the error between predicted values and actual values should be minimized. The best fit line will have the least error.\"\n",
    "result = count_pos_tags(text)\n",
    "print(result)"
   ]
  },
  {
   "cell_type": "code",
   "execution_count": 11,
   "id": "21209b8f",
   "metadata": {
    "scrolled": true
   },
   "outputs": [
    {
     "name": "stdout",
     "output_type": "stream",
     "text": [
      "{'nouns': 33, 'pronouns': 1, 'verbs': 33, 'adjectives': 33}\n"
     ]
    }
   ],
   "source": [
    "text = \"Data science relies heavily on machine learning algorithms. Machine learning is a form of advanced analytics in which algorithms learn about data sets and then look for patterns, anomalies or insights in them.\"\n",
    "result = count_pos_tags(text)\n",
    "print(result)"
   ]
  }
 ],
 "metadata": {
  "kernelspec": {
   "display_name": "Python 3 (ipykernel)",
   "language": "python",
   "name": "python3"
  },
  "language_info": {
   "codemirror_mode": {
    "name": "ipython",
    "version": 3
   },
   "file_extension": ".py",
   "mimetype": "text/x-python",
   "name": "python",
   "nbconvert_exporter": "python",
   "pygments_lexer": "ipython3",
   "version": "3.9.13"
  }
 },
 "nbformat": 4,
 "nbformat_minor": 5
}
