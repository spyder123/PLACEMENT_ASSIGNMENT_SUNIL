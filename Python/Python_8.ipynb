{
 "cells": [
  {
   "cell_type": "markdown",
   "id": "3c2e7ad2",
   "metadata": {},
   "source": [
    "***Question 8 -Using the data from Question 5, write code the analyze the data and answer the following questions\n",
    "Note -1. Draw plots to demonstrate the analysis for the following questions and better visualizations2. Write code comments wherever required for code understanding***\n"
   ]
  },
  {
   "cell_type": "markdown",
   "id": "d997e267",
   "metadata": {},
   "source": [
    "Insights to be drawn -\n",
    "\n",
    "● Get all the overall ratings for each season and using plots compare the ratings for all the\n",
    "seasons, like season 1 ratings, season 2, and so on.\n",
    "\n",
    "● Get all the episode names, whose average rating is more than 8 for every season\n",
    "\n",
    "● Get all the episode names that aired before May 2019\n",
    "\n",
    "● Get the episode name from each season with the highest and lowest rating\n",
    "\n",
    "● Get the summary for the most popular ( ratings ) episode in every season"
   ]
  },
  {
   "cell_type": "code",
   "execution_count": 6,
   "id": "489a1f8f",
   "metadata": {},
   "outputs": [
    {
     "data": {
      "image/png": "[encoded data removed]",
      "text/plain": [
       "<Figure size 1000x600 with 1 Axes>"
      ]
     },
     "metadata": {},
     "output_type": "display_data"
    }
   ],
   "source": [
    "import requests\n",
    "import matplotlib.pyplot as plt\n",
    "\n",
    "#  Get all the overall ratings for each season and compare the ratings using plots\n",
    "\n",
    "# Retrieve the data from the API\n",
    "url = \"http://api.tvmaze.com/singlesearch/shows?q=westworld&embed=episodes\"\n",
    "response = requests.get(url)\n",
    "data = response.json()\n",
    "\n",
    "# Extract season numbers and ratings from the data\n",
    "seasons = [episode['season'] for episode in data['_embedded']['episodes']]\n",
    "ratings = [float(episode['rating']['average']) for episode in data['_embedded']['episodes']]\n",
    "\n",
    "# Create a bar plot to compare the ratings for each season\n",
    "plt.figure(figsize=(10, 6))\n",
    "plt.bar(seasons, ratings)\n",
    "plt.title(\"Westworld Ratings by Season\")\n",
    "plt.xlabel(\"Season\")\n",
    "plt.ylabel(\"Rating\")\n",
    "plt.grid(True)\n",
    "plt.show()\n"
   ]
  },
  {
   "cell_type": "code",
   "execution_count": 7,
   "id": "ebf12d03",
   "metadata": {},
   "outputs": [
    {
     "name": "stdout",
     "output_type": "stream",
     "text": [
      "Season 1:\n",
      "- Trompe L'Oeil\n",
      "- The Well-Tempered Clavier\n",
      "- The Bicameral Mind\n",
      "\n",
      "Season 2:\n",
      "- Kiksuya\n",
      "- Vanishing Point\n",
      "- The Passenger\n",
      "\n"
     ]
    }
   ],
   "source": [
    "#  Get all the episode names whose average rating is more than 8 for every season\n",
    "\n",
    "# Create a dictionary to store episode names for each season\n",
    "episode_names = {}\n",
    "\n",
    "# Iterate over the episodes and populate the dictionary\n",
    "for episode in data['_embedded']['episodes']:\n",
    "    season = episode['season']\n",
    "    episode_name = episode['name']\n",
    "    rating = float(episode['rating']['average'])\n",
    "    \n",
    "    if rating > 8:\n",
    "        if season in episode_names:\n",
    "            episode_names[season].append(episode_name)\n",
    "        else:\n",
    "            episode_names[season] = [episode_name]\n",
    "\n",
    "# Print the episode names for each season with average rating > 8\n",
    "for season, episodes in episode_names.items():\n",
    "    print(f\"Season {season}:\")\n",
    "    for episode in episodes:\n",
    "        print(f\"- {episode}\")\n",
    "    print()"
   ]
  },
  {
   "cell_type": "code",
   "execution_count": 8,
   "id": "38458113",
   "metadata": {},
   "outputs": [
    {
     "name": "stdout",
     "output_type": "stream",
     "text": [
      "Episodes aired before May 2019:\n",
      "- The Original\n",
      "- Chestnut\n",
      "- The Stray\n",
      "- Dissonance Theory\n",
      "- Contrapasso\n",
      "- The Adversary\n",
      "- Trompe L'Oeil\n",
      "- Trace Decay\n",
      "- The Well-Tempered Clavier\n",
      "- The Bicameral Mind\n",
      "- Journey Into Night\n",
      "- Reunion\n",
      "- Virtù e Fortuna\n",
      "- The Riddle of the Sphinx\n",
      "- Akane No Mai\n",
      "- Phase Space\n",
      "- Les Écorchés\n",
      "- Kiksuya\n",
      "- Vanishing Point\n",
      "- The Passenger\n",
      "\n"
     ]
    }
   ],
   "source": [
    "#  Get all the episode names that aired before May 2019\n",
    "\n",
    "# Filter the episodes based on the airdate\n",
    "episodes_before_may_2019 = [episode['name'] for episode in data['_embedded']['episodes'] if episode['airdate'] < '2019-05']\n",
    "\n",
    "# Print the episode names that aired before May 2019\n",
    "print(\"Episodes aired before May 2019:\")\n",
    "for episode in episodes_before_may_2019:\n",
    "    print(\"- \" + episode)\n",
    "print()\n"
   ]
  },
  {
   "cell_type": "code",
   "execution_count": 9,
   "id": "e76f8f9b",
   "metadata": {},
   "outputs": [
    {
     "name": "stdout",
     "output_type": "stream",
     "text": [
      "Season 1:\n",
      "Highest Rated Episode: The Bicameral Mind (Rating: 8.7 )\n",
      "Lowest Rated Episode: The Stray (Rating: 7.6 )\n",
      "\n",
      "Season 2:\n",
      "Highest Rated Episode: Kiksuya (Rating: 8.7 )\n",
      "Lowest Rated Episode: Akane No Mai (Rating: 7.6 )\n",
      "\n",
      "Season 3:\n",
      "Highest Rated Episode: Parce Domine (Rating: 8.0 )\n",
      "Lowest Rated Episode: Decoherence (Rating: 7.5 )\n",
      "\n",
      "Season 4:\n",
      "Highest Rated Episode: Zhuangzi (Rating: 7.8 )\n",
      "Lowest Rated Episode: The Auguries (Rating: 7.1 )\n",
      "\n"
     ]
    }
   ],
   "source": [
    "#  Get the episode name from each season with the highest and lowest rating\n",
    "\n",
    "# Create dictionaries to store the episode names with highest and lowest ratings for each season\n",
    "highest_rated_episodes = {}\n",
    "lowest_rated_episodes = {}\n",
    "\n",
    "# Iterate over the episodes and update the dictionaries\n",
    "for episode in data['_embedded']['episodes']:\n",
    "    season = episode['season']\n",
    "    episode_name = episode['name']\n",
    "    rating = float(episode['rating']['average'])\n",
    "    \n",
    "    if season in highest_rated_episodes:\n",
    "        if rating > float(highest_rated_episodes[season]['rating']):\n",
    "            highest_rated_episodes[season] = {'episode': episode_name, 'rating': rating}\n",
    "    else:\n",
    "        highest_rated_episodes[season] = {'episode': episode_name, 'rating': rating}\n",
    "    \n",
    "    if season in lowest_rated_episodes:\n",
    "        if rating < float(lowest_rated_episodes[season]['rating']):\n",
    "            lowest_rated_episodes[season] = {'episode': episode_name, 'rating': rating}\n",
    "    else:\n",
    "        lowest_rated_episodes[season] = {'episode': episode_name, 'rating': rating}\n",
    "\n",
    "# Print the episode name with the highest and lowest rating for each season\n",
    "for season in highest_rated_episodes:\n",
    "    print(f\"Season {season}:\")\n",
    "    print(\"Highest Rated Episode:\", highest_rated_episodes[season]['episode'], \"(Rating:\", highest_rated_episodes[season]['rating'], \")\")\n",
    "    print(\"Lowest Rated Episode:\", lowest_rated_episodes[season]['episode'], \"(Rating:\", lowest_rated_episodes[season]['rating'], \")\")\n",
    "    print()"
   ]
  },
  {
   "cell_type": "code",
   "execution_count": 10,
   "id": "3dca2f88",
   "metadata": {},
   "outputs": [
    {
     "name": "stdout",
     "output_type": "stream",
     "text": [
      "Season 1:\n",
      "Most Popular Episode: The Bicameral Mind\n",
      "Rating: 8.7\n",
      "Summary: <p>Delores finds out the truth about William's fate. Meanwhile, Maeve organizes an escape plan, only to discover that someone else is pulling the strings. And Robert plays the final piece in his grand narrative.</p>\n",
      "\n",
      "Season 2:\n",
      "Most Popular Episode: Kiksuya\n",
      "Rating: 8.7\n",
      "Summary: <p>Another of Westworld's Host revolutionaries is revealed. Meanwhile, Emily finds the Man and convinces the Ghost Nation to hand him over to her to ensure his suffering.</p>\n",
      "\n",
      "Season 3:\n",
      "Most Popular Episode: Parce Domine\n",
      "Rating: 8.0\n",
      "Summary: <p>If you're stuck in a loop, try walking in a straight line.</p>\n",
      "\n",
      "Season 4:\n",
      "Most Popular Episode: Zhuangzi\n",
      "Rating: 7.8\n",
      "Summary: <p>God is bored.</p>\n",
      "\n"
     ]
    }
   ],
   "source": [
    "# Get the summary for the most popular (ratings) episode in every season\n",
    "\n",
    "# Create a dictionary to store the summary of the most popular episode for each season\n",
    "most_popular_episodes = {}\n",
    "\n",
    "# Iterate over the episodes and update the dictionary\n",
    "for episode in data['_embedded']['episodes']:\n",
    "    season = episode['season']\n",
    "    episode_name = episode['name']\n",
    "    rating = float(episode['rating']['average'])\n",
    "    summary = episode['summary']\n",
    "    \n",
    "    if season in most_popular_episodes:\n",
    "        if rating > float(most_popular_episodes[season]['rating']):\n",
    "            most_popular_episodes[season] = {'episode': episode_name, 'rating': rating, 'summary': summary}\n",
    "    else:\n",
    "        most_popular_episodes[season] = {'episode': episode_name, 'rating': rating, 'summary': summary}\n",
    "\n",
    "# Print the summary of the most popular episode for each season\n",
    "for season in most_popular_episodes:\n",
    "    print(f\"Season {season}:\")\n",
    "    print(\"Most Popular Episode:\", most_popular_episodes[season]['episode'])\n",
    "    print(\"Rating:\", most_popular_episodes[season]['rating'])\n",
    "    print(\"Summary:\", most_popular_episodes[season]['summary'])\n",
    "    print()"
   ]
  }
 ],
 "metadata": {
  "kernelspec": {
   "display_name": "Python 3 (ipykernel)",
   "language": "python",
   "name": "python3"
  },
  "language_info": {
   "codemirror_mode": {
    "name": "ipython",
    "version": 3
   },
   "file_extension": ".py",
   "mimetype": "text/x-python",
   "name": "python",
   "nbconvert_exporter": "python",
   "pygments_lexer": "ipython3",
   "version": "3.9.13"
  }
 },
 "nbformat": 4,
 "nbformat_minor": 5
}
