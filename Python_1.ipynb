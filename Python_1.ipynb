{
 "cells": [
  {
   "cell_type": "markdown",
   "id": "978e4432",
   "metadata": {},
   "source": [
    "****Q1. \n",
    "Write a program that takes a string as input, and counts the frequency of each word in the string, there might\n",
    "be repeated characters in the string. Your task is to find the highest frequency and returns the length of the\n",
    "highest-frequency word.****"
   ]
  },
  {
   "cell_type": "markdown",
   "id": "9121fad3",
   "metadata": {},
   "source": [
    "Note - You have to write at least 2 additional test cases in which your program will run successfully and provide\n",
    "an explanation for the same.\n",
    "\n",
    "Example input - string = “write write write all the number from from from 1 to 100”\n",
    "Example output - 5\n",
    "\n",
    "Explanation - From the given string we can note that the most frequent words are “write” and “from” and\n",
    "the maximum value of both the values is “write” and its corresponding length is 5"
   ]
  },
  {
   "cell_type": "code",
   "execution_count": 1,
   "id": "5cde0649",
   "metadata": {},
   "outputs": [
    {
     "name": "stdout",
     "output_type": "stream",
     "text": [
      "The length of highest freq word is : 7\n",
      "The highest freq word is: weather\n",
      "{'the': 3, 'weather': 1, 'is': 1, 'good': 1, 'today.': 1}\n"
     ]
    }
   ],
   "source": [
    "# testcase1\n",
    "\n",
    "def word_count(str):\n",
    "    counts = dict()\n",
    "    words = str.split()\n",
    "\n",
    "    for word in words:\n",
    "        if word in counts:\n",
    "            counts[word] += 1\n",
    "        else:\n",
    "            counts[word] = 1\n",
    "\n",
    "    print(\"The length of highest freq word is :\",len(max(counts)))\n",
    "     \n",
    "    print(\"The highest freq word is:\",max(counts))\n",
    "    return counts\n",
    "\n",
    "print( word_count('the weather is the good the today.'))"
   ]
  },
  {
   "cell_type": "markdown",
   "id": "c06e988f",
   "metadata": {},
   "source": [
    "Explanation : From the given string we can note that the most frequent word is “weather” and its corresponding length is 7"
   ]
  },
  {
   "cell_type": "code",
   "execution_count": 4,
   "id": "24a4e8ae",
   "metadata": {},
   "outputs": [
    {
     "name": "stdout",
     "output_type": "stream",
     "text": [
      "The length of highest freq word is : 6\n",
      "The highest freq word is: TRAVEL\n",
      "{'I': 1, 'LIKE': 1, 'TO': 1, 'TRAVEL': 1}\n"
     ]
    }
   ],
   "source": [
    "# testcase2\n",
    "\n",
    "def word_count(str):\n",
    "    counts = dict()\n",
    "    words = str.split()\n",
    "\n",
    "    for word in words:\n",
    "        if word in counts:\n",
    "            counts[word] += 1\n",
    "        else:\n",
    "            counts[word] = 1\n",
    "\n",
    "    print(\"The length of highest freq word is :\",len(max(counts)))\n",
    "     \n",
    "    print(\"The highest freq word is:\",max(counts))\n",
    "    return counts\n",
    "\n",
    "print( word_count(\"I LIKE TO TRAVEL\"))"
   ]
  },
  {
   "cell_type": "markdown",
   "id": "189bbf56",
   "metadata": {},
   "source": [
    "Explanation : The highest frequency word is travel and its count is 6 which is displayed above. And also the count of each word is also displayed."
   ]
  }
 ],
 "metadata": {
  "kernelspec": {
   "display_name": "Python 3 (ipykernel)",
   "language": "python",
   "name": "python3"
  },
  "language_info": {
   "codemirror_mode": {
    "name": "ipython",
    "version": 3
   },
   "file_extension": ".py",
   "mimetype": "text/x-python",
   "name": "python",
   "nbconvert_exporter": "python",
   "pygments_lexer": "ipython3",
   "version": "3.9.13"
  }
 },
 "nbformat": 4,
 "nbformat_minor": 5
}
